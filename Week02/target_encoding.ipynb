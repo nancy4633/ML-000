{
  "nbformat": 4,
  "nbformat_minor": 0,
  "metadata": {
    "colab": {
      "name": "target_encoding.ipynb",
      "provenance": [],
      "collapsed_sections": []
    },
    "kernelspec": {
      "name": "python3",
      "display_name": "Python 3"
    }
  },
  "cells": [
    {
      "cell_type": "code",
      "metadata": {
        "id": "kFzBFnUyMjVU"
      },
      "source": [
        "import numpy as np\n",
        "import pandas as pd"
      ],
      "execution_count": null,
      "outputs": []
    },
    {
      "cell_type": "code",
      "metadata": {
        "id": "5t3dxX_VMnad"
      },
      "source": [
        "def target_mean_v1(data, y_name, x_name):\n",
        "    result = np.zeros(data.shape[0])\n",
        "    for i in range(data.shape[0]):\n",
        "        groupby_result = data[data.index != i].groupby([x_name], as_index=False).agg(['mean', 'count'])\n",
        "        result[i] = groupby_result.loc[groupby_result.index == data.loc[i, x_name], (y_name, 'mean')]\n",
        "    return result"
      ],
      "execution_count": null,
      "outputs": []
    },
    {
      "cell_type": "code",
      "metadata": {
        "id": "B2j0lsXhMqo3"
      },
      "source": [
        "def target_mean_v2(data, y_name, x_name):\n",
        "    result = np.zeros(data.shape[0])\n",
        "    value_dict = dict()\n",
        "    count_dict = dict()\n",
        "    for i in range(data.shape[0]):\n",
        "        if data.loc[i, x_name] not in value_dict.keys():\n",
        "            value_dict[data.loc[i, x_name]] = data.loc[i, y_name]\n",
        "            count_dict[data.loc[i, x_name]] = 1\n",
        "        else:\n",
        "            value_dict[data.loc[i, x_name]] += data.loc[i, y_name]\n",
        "            count_dict[data.loc[i, x_name]] += 1\n",
        "    for i in range(data.shape[0]):\n",
        "        result[i] = (value_dict[data.loc[i, x_name]] - data.loc[i, y_name]) / (count_dict[data.loc[i, x_name]] - 1)\n",
        "    return result"
      ],
      "execution_count": null,
      "outputs": []
    },
    {
      "cell_type": "code",
      "metadata": {
        "id": "t97VNhOEOdYt"
      },
      "source": [
        "y = np.random.randint(2, size=(5000, 1))\n",
        "x = np.random.randint(10, size=(5000, 1))\n",
        "data = pd.DataFrame(np.concatenate([y, x], axis=1), columns=['y', 'x'])"
      ],
      "execution_count": null,
      "outputs": []
    },
    {
      "cell_type": "code",
      "metadata": {
        "id": "8hHREHKpMuBz"
      },
      "source": [
        "%%timeit\n",
        "target_mean_v1(data, 'y', 'x')"
      ],
      "execution_count": null,
      "outputs": []
    },
    {
      "cell_type": "code",
      "metadata": {
        "id": "j5n0IXwFNWUu"
      },
      "source": [
        "%%timeit\n",
        "target_mean_v2(data, 'y', 'x')"
      ],
      "execution_count": null,
      "outputs": []
    },
    {
      "cell_type": "code",
      "metadata": {
        "id": "E1tl3mGLNdML"
      },
      "source": [
        "def target_mean_v3(data, y_name, x_name):\n",
        "    batch = data.shape[0]\n",
        "    result = np.zeros(batch)\n",
        "    value_dict = dict()\n",
        "    count_dict = dict()\n",
        "    for i in range(batch):\n",
        "        x_value = data.loc[i, x_name]\n",
        "        y_value = data.loc[i, y_name]\n",
        "        if x_value not in value_dict.keys():\n",
        "            value_dict[x_value] = y_value\n",
        "            count_dict[x_value] = 1\n",
        "        else:\n",
        "            value_dict[x_value] += y_value\n",
        "            count_dict[x_value] += 1\n",
        "    for i in range(batch):\n",
        "        x_value_ = data.loc[i, x_name]\n",
        "        result[i] = (value_dict[x_value_] - data.loc[i, y_name]) / (count_dict[x_value_] - 1)\n",
        "    return result"
      ],
      "execution_count": null,
      "outputs": []
    },
    {
      "cell_type": "code",
      "metadata": {
        "id": "YW4DHSVWNj4y"
      },
      "source": [
        "%%timeit\n",
        "target_mean_v3(data, 'y', 'x')"
      ],
      "execution_count": null,
      "outputs": []
    },
    {
      "cell_type": "code",
      "metadata": {
        "id": "iP1nR8rpNrvy"
      },
      "source": [
        "%load_ext Cython "
      ],
      "execution_count": null,
      "outputs": []
    },
    {
      "cell_type": "code",
      "metadata": {
        "id": "weFz9DTmNwyJ"
      },
      "source": [
        "%%cython -a\n",
        "import cython\n",
        "\n",
        "import numpy as np\n",
        "cimport numpy as cnp\n",
        "\n",
        "\n",
        "cpdef cnp.ndarray[double] target_mean_v5(cnp.ndarray[long, ndim=2] data):\n",
        "    cdef int batch = data.shape[0]\n",
        "    cdef cnp.ndarray[double] result = np.zeros(batch)\n",
        "    cdef dict value_dict = {}\n",
        "    cdef dict count_dict = {}\n",
        "    cdef long x_value\n",
        "    cdef long y_valuez\n",
        "    cdef unsigned int i\n",
        "    for i in range(batch):\n",
        "        x_value = data[i, 1]\n",
        "        y_value = data[i, 0]\n",
        "        if x_value not in value_dict.keys():\n",
        "            value_dict[x_value] = y_value\n",
        "            count_dict[x_value] = 1\n",
        "        else:\n",
        "            value_dict[x_value] += y_value\n",
        "\n",
        "            count_dict[x_value] += 1\n",
        "    for i in range(batch):\n",
        "        x_value = data[i, 1]\n",
        "        result[i] = (value_dict[x_value] - data[i, 0]) / (count_dict[x_value] - 1)\n",
        "    return result"
      ],
      "execution_count": null,
      "outputs": []
    },
    {
      "cell_type": "code",
      "metadata": {
        "id": "MnNBBSOHN08Q"
      },
      "source": [
        "# y = np.random.randint(2, size=(5000, 1))\n",
        "# x = np.random.randint(10, size=(5000, 1))\n",
        "data_ = np.concatenate([y, x], axis=1)\n",
        "# print(type(data))"
      ],
      "execution_count": null,
      "outputs": []
    },
    {
      "cell_type": "code",
      "metadata": {
        "id": "Fiw9_hwxPECk"
      },
      "source": [
        "result_1 = target_mean_v1(data, 'y', 'x')\n",
        "result_2 = target_mean_v5(data_)\n",
        "\n",
        "diff = np.linalg.norm(result_1 - result_2)\n",
        "print(diff)"
      ],
      "execution_count": null,
      "outputs": []
    },
    {
      "cell_type": "code",
      "metadata": {
        "id": "fsrapl06Ph_H"
      },
      "source": [
        "%%timeit\n",
        "\n",
        "target_mean_v5(data_)"
      ],
      "execution_count": null,
      "outputs": []
    },
    {
      "cell_type": "code",
      "metadata": {
        "id": "5-Gzjh4mPoGl"
      },
      "source": [
        "%%cython -a\n",
        "import cython\n",
        "import numpy as np\n",
        "cimport numpy as cnp\n",
        "\n",
        "\n",
        "cpdef cnp.ndarray[double] target_mean_v6(cnp.ndarray[long, ndim=2] data):\n",
        "    cdef int[:] x = data[:,1].astype(np.intc)\n",
        "    cdef int[:] y = data[:,0].astype(np.intc)\n",
        "    cdef int batch = data.shape[0]\n",
        "    cdef cnp.ndarray[double] result = np.zeros(batch)\n",
        "    cdef int[:] value_dict = np.zeros(batch).astype(np.intc)\n",
        "    cdef int[:] count_dict = np.zeros(batch).astype(np.intc)\n",
        "    cdef unsigned int i\n",
        "    for i in range(batch):\n",
        "        value_dict[x[i]] += y[i]\n",
        "\n",
        "        count_dict[x[i]] += 1\n",
        "    for i in range(batch):\n",
        "        result[i] = (value_dict[x[i]] - y[i]) / (count_dict[x[i]] - 1)\n",
        "    return result"
      ],
      "execution_count": null,
      "outputs": []
    },
    {
      "cell_type": "code",
      "metadata": {
        "id": "38ppHsifPt6C"
      },
      "source": [
        "%%timeit\n",
        "\n",
        "target_mean_v6(data_)"
      ],
      "execution_count": null,
      "outputs": []
    },
    {
      "cell_type": "code",
      "metadata": {
        "id": "bPCAK-qlPw-w"
      },
      "source": [
        "result_1 = target_mean_v1(data, 'y', 'x')\n",
        "result_6 = target_mean_v6(data_)\n",
        "\n",
        "diff = np.linalg.norm(result_1 - result_6)\n",
        "print(diff)"
      ],
      "execution_count": null,
      "outputs": []
    },
    {
      "cell_type": "code",
      "metadata": {
        "id": "2o2esGj7P28r"
      },
      "source": [
        "%%cython -a\n",
        "import cython\n",
        "import numpy as np\n",
        "cimport numpy as cnp\n",
        "from cython.parallel import prange\n",
        "import cython\n",
        "\n",
        "@cython.boundscheck(False)\n",
        "@cython.wraparound(False)\n",
        "cpdef cnp.ndarray[double] target_mean_v7(cnp.ndarray[long, ndim=2] data):\n",
        "    cdef int[:] x = data[:,1].astype(np.intc)\n",
        "    cdef int[:] y = data[:,0].astype(np.intc)\n",
        "    cdef int batch = data.shape[0]\n",
        "    cdef cnp.ndarray[double] result = np.zeros(batch)\n",
        "    cdef int[:] value_dict = np.zeros(batch).astype(np.intc)\n",
        "    cdef int[:] count_dict = np.zeros(batch).astype(np.intc)\n",
        "    cdef int i\n",
        "    for i in prange(batch, nogil=True):\n",
        "        value_dict[x[i]] += y[i]\n",
        "\n",
        "        count_dict[x[i]] += 1\n",
        "    for i in prange(batch, nogil=True):\n",
        "        result[i] = (value_dict[x[i]] - y[i]) / (count_dict[x[i]] - 1)\n",
        "    return result"
      ],
      "execution_count": null,
      "outputs": []
    },
    {
      "cell_type": "code",
      "metadata": {
        "id": "-AFwpPfxP-ZO"
      },
      "source": [
        "%%timeit\n",
        "target_mean_v7(data_)"
      ],
      "execution_count": null,
      "outputs": []
    },
    {
      "cell_type": "code",
      "metadata": {
        "id": "2li0WrPHQA9j"
      },
      "source": [
        "result_7 = target_mean_v7(data_)\n",
        "diff = np.linalg.norm(result_1 - result_7)\n",
        "print(diff)"
      ],
      "execution_count": null,
      "outputs": []
    }
  ]
}